{
 "cells": [
  {
   "cell_type": "code",
   "execution_count": 2,
   "metadata": {},
   "outputs": [
    {
     "name": "stderr",
     "output_type": "stream",
     "text": [
      "Using TensorFlow backend.\n",
      "C:\\Users\\varun\\anaconda3\\lib\\site-packages\\tensorflow\\python\\framework\\dtypes.py:526: FutureWarning: Passing (type, 1) or '1type' as a synonym of type is deprecated; in a future version of numpy, it will be understood as (type, (1,)) / '(1,)type'.\n",
      "  _np_qint8 = np.dtype([(\"qint8\", np.int8, 1)])\n",
      "C:\\Users\\varun\\anaconda3\\lib\\site-packages\\tensorflow\\python\\framework\\dtypes.py:527: FutureWarning: Passing (type, 1) or '1type' as a synonym of type is deprecated; in a future version of numpy, it will be understood as (type, (1,)) / '(1,)type'.\n",
      "  _np_quint8 = np.dtype([(\"quint8\", np.uint8, 1)])\n",
      "C:\\Users\\varun\\anaconda3\\lib\\site-packages\\tensorflow\\python\\framework\\dtypes.py:528: FutureWarning: Passing (type, 1) or '1type' as a synonym of type is deprecated; in a future version of numpy, it will be understood as (type, (1,)) / '(1,)type'.\n",
      "  _np_qint16 = np.dtype([(\"qint16\", np.int16, 1)])\n",
      "C:\\Users\\varun\\anaconda3\\lib\\site-packages\\tensorflow\\python\\framework\\dtypes.py:529: FutureWarning: Passing (type, 1) or '1type' as a synonym of type is deprecated; in a future version of numpy, it will be understood as (type, (1,)) / '(1,)type'.\n",
      "  _np_quint16 = np.dtype([(\"quint16\", np.uint16, 1)])\n",
      "C:\\Users\\varun\\anaconda3\\lib\\site-packages\\tensorflow\\python\\framework\\dtypes.py:530: FutureWarning: Passing (type, 1) or '1type' as a synonym of type is deprecated; in a future version of numpy, it will be understood as (type, (1,)) / '(1,)type'.\n",
      "  _np_qint32 = np.dtype([(\"qint32\", np.int32, 1)])\n",
      "C:\\Users\\varun\\anaconda3\\lib\\site-packages\\tensorflow\\python\\framework\\dtypes.py:535: FutureWarning: Passing (type, 1) or '1type' as a synonym of type is deprecated; in a future version of numpy, it will be understood as (type, (1,)) / '(1,)type'.\n",
      "  np_resource = np.dtype([(\"resource\", np.ubyte, 1)])\n"
     ]
    }
   ],
   "source": [
    "from keras.models import Sequential\n",
    "from keras.layers import Dense\n",
    "from keras.layers import MaxPooling2D\n",
    "from keras.layers import Conv2D\n",
    "from keras.layers import Flatten"
   ]
  },
  {
   "cell_type": "code",
   "execution_count": 3,
   "metadata": {},
   "outputs": [],
   "source": [
    "cnn_model=Sequential()"
   ]
  },
  {
   "cell_type": "code",
   "execution_count": 4,
   "metadata": {},
   "outputs": [
    {
     "name": "stderr",
     "output_type": "stream",
     "text": [
      "C:\\Users\\varun\\anaconda3\\lib\\site-packages\\ipykernel_launcher.py:1: UserWarning: Update your `Conv2D` call to the Keras 2 API: `Conv2D(32, (3, 3), input_shape=(64, 64, 3..., activation=\"relu\")`\n",
      "  \"\"\"Entry point for launching an IPython kernel.\n"
     ]
    },
    {
     "name": "stdout",
     "output_type": "stream",
     "text": [
      "WARNING:tensorflow:From C:\\Users\\varun\\anaconda3\\lib\\site-packages\\tensorflow\\python\\ops\\resource_variable_ops.py:435: colocate_with (from tensorflow.python.framework.ops) is deprecated and will be removed in a future version.\n",
      "Instructions for updating:\n",
      "Colocations handled automatically by placer.\n"
     ]
    }
   ],
   "source": [
    "cnn_model.add(Conv2D(32,3,3,input_shape=(64,64,3),activation='relu'))"
   ]
  },
  {
   "cell_type": "code",
   "execution_count": 5,
   "metadata": {},
   "outputs": [],
   "source": [
    "cnn_model.add(MaxPooling2D(pool_size=(2,2)))"
   ]
  },
  {
   "cell_type": "code",
   "execution_count": 6,
   "metadata": {},
   "outputs": [],
   "source": [
    "cnn_model.add(Flatten())"
   ]
  },
  {
   "cell_type": "code",
   "execution_count": 7,
   "metadata": {},
   "outputs": [
    {
     "name": "stderr",
     "output_type": "stream",
     "text": [
      "C:\\Users\\varun\\anaconda3\\lib\\site-packages\\ipykernel_launcher.py:1: UserWarning: Update your `Dense` call to the Keras 2 API: `Dense(activation=\"relu\", units=120, kernel_initializer=\"random_uniform\")`\n",
      "  \"\"\"Entry point for launching an IPython kernel.\n"
     ]
    }
   ],
   "source": [
    "cnn_model.add(Dense(init=\"random_uniform\",activation=\"relu\",output_dim=120))"
   ]
  },
  {
   "cell_type": "code",
   "execution_count": 8,
   "metadata": {},
   "outputs": [
    {
     "name": "stderr",
     "output_type": "stream",
     "text": [
      "C:\\Users\\varun\\anaconda3\\lib\\site-packages\\ipykernel_launcher.py:1: UserWarning: Update your `Dense` call to the Keras 2 API: `Dense(activation=\"sigmoid\", units=3, kernel_initializer=\"random_uniform\")`\n",
      "  \"\"\"Entry point for launching an IPython kernel.\n"
     ]
    }
   ],
   "source": [
    "cnn_model.add(Dense(init=\"random_uniform\",activation=\"sigmoid\",output_dim=3))"
   ]
  },
  {
   "cell_type": "code",
   "execution_count": 9,
   "metadata": {},
   "outputs": [],
   "source": [
    "cnn_model.compile(optimizer=\"adam\",loss=\"binary_crossentropy\",metrics=[\"accuracy\"])"
   ]
  },
  {
   "cell_type": "code",
   "execution_count": 10,
   "metadata": {},
   "outputs": [],
   "source": [
    "from keras.preprocessing.image import ImageDataGenerator #is a class to apply image preprocessing\n",
    "train_datagen = ImageDataGenerator(\n",
    "        rescale=1./255, #range from 0-255 is scaled to range 0-1\n",
    "        shear_range=0.2, #rotates the image in some range to avoid over fitting\n",
    "        zoom_range=0.2, #zooms the image by a range\n",
    "        horizontal_flip=True) #flips the image horizontally"
   ]
  },
  {
   "cell_type": "code",
   "execution_count": 11,
   "metadata": {},
   "outputs": [],
   "source": [
    "test_datagen = ImageDataGenerator(rescale=1./255)"
   ]
  },
  {
   "cell_type": "code",
   "execution_count": 12,
   "metadata": {},
   "outputs": [
    {
     "name": "stdout",
     "output_type": "stream",
     "text": [
      "Found 2965 images belonging to 3 classes.\n"
     ]
    }
   ],
   "source": [
    "x_train = train_datagen.flow_from_directory(\n",
    "        r'C:\\Users\\varun\\Desktop\\Mini Project 2\\Dataset\\train',\n",
    "        target_size=(64, 64),\n",
    "        batch_size=32,\n",
    "        class_mode='categorical')"
   ]
  },
  {
   "cell_type": "code",
   "execution_count": 13,
   "metadata": {},
   "outputs": [
    {
     "name": "stdout",
     "output_type": "stream",
     "text": [
      "Found 1268 images belonging to 3 classes.\n"
     ]
    }
   ],
   "source": [
    "x_test = test_datagen.flow_from_directory(\n",
    "        r'C:\\Users\\varun\\Desktop\\Mini Project 2\\Dataset\\test',\n",
    "        target_size=(64, 64),\n",
    "        batch_size=32,\n",
    "        class_mode='categorical')"
   ]
  },
  {
   "cell_type": "code",
   "execution_count": 14,
   "metadata": {},
   "outputs": [
    {
     "data": {
      "text/plain": [
       "{'negative': 0, 'neutral': 1, 'positive': 2}"
      ]
     },
     "execution_count": 14,
     "metadata": {},
     "output_type": "execute_result"
    }
   ],
   "source": [
    "x_train.class_indices"
   ]
  },
  {
   "cell_type": "code",
   "execution_count": 15,
   "metadata": {},
   "outputs": [
    {
     "name": "stdout",
     "output_type": "stream",
     "text": [
      "WARNING:tensorflow:From C:\\Users\\varun\\anaconda3\\lib\\site-packages\\tensorflow\\python\\ops\\math_ops.py:3066: to_int32 (from tensorflow.python.ops.math_ops) is deprecated and will be removed in a future version.\n",
      "Instructions for updating:\n",
      "Use tf.cast instead.\n",
      "Epoch 1/50\n",
      "84/84 [==============================] - 51s 602ms/step - loss: 0.6447 - accuracy: 0.6599 - val_loss: 0.6396 - val_accuracy: 0.6614\n",
      "Epoch 2/50\n",
      "84/84 [==============================] - 35s 411ms/step - loss: 0.6268 - accuracy: 0.6672 - val_loss: 0.6067 - val_accuracy: 0.6646\n",
      "Epoch 3/50\n",
      "84/84 [==============================] - 31s 366ms/step - loss: 0.6233 - accuracy: 0.6687 - val_loss: 0.6565 - val_accuracy: 0.6551\n",
      "Epoch 4/50\n",
      "84/84 [==============================] - 32s 379ms/step - loss: 0.6197 - accuracy: 0.6682 - val_loss: 0.6873 - val_accuracy: 0.6590\n",
      "Epoch 5/50\n",
      "84/84 [==============================] - 31s 370ms/step - loss: 0.6125 - accuracy: 0.6737 - val_loss: 0.6745 - val_accuracy: 0.6580\n",
      "Epoch 6/50\n",
      "84/84 [==============================] - 31s 366ms/step - loss: 0.6112 - accuracy: 0.6734 - val_loss: 0.5772 - val_accuracy: 0.6609\n",
      "Epoch 7/50\n",
      "84/84 [==============================] - 31s 368ms/step - loss: 0.6053 - accuracy: 0.6761 - val_loss: 0.6952 - val_accuracy: 0.6420\n",
      "Epoch 8/50\n",
      "84/84 [==============================] - 31s 363ms/step - loss: 0.5994 - accuracy: 0.6820 - val_loss: 0.7014 - val_accuracy: 0.6427\n",
      "Epoch 9/50\n",
      "84/84 [==============================] - 31s 365ms/step - loss: 0.5958 - accuracy: 0.6830 - val_loss: 0.5944 - val_accuracy: 0.6464\n",
      "Epoch 10/50\n",
      "84/84 [==============================] - 31s 368ms/step - loss: 0.5922 - accuracy: 0.6870 - val_loss: 0.5546 - val_accuracy: 0.6472\n",
      "Epoch 11/50\n",
      "84/84 [==============================] - 31s 369ms/step - loss: 0.5779 - accuracy: 0.6982 - val_loss: 0.6164 - val_accuracy: 0.6467\n",
      "Epoch 12/50\n",
      "84/84 [==============================] - 32s 377ms/step - loss: 0.5725 - accuracy: 0.7038 - val_loss: 0.5864 - val_accuracy: 0.6322\n",
      "Epoch 13/50\n",
      "84/84 [==============================] - 34s 400ms/step - loss: 0.5641 - accuracy: 0.7089 - val_loss: 0.7283 - val_accuracy: 0.6309\n",
      "Epoch 14/50\n",
      "84/84 [==============================] - 36s 423ms/step - loss: 0.5609 - accuracy: 0.7130 - val_loss: 0.6536 - val_accuracy: 0.6427\n",
      "Epoch 15/50\n",
      "84/84 [==============================] - 34s 408ms/step - loss: 0.5446 - accuracy: 0.7235 - val_loss: 0.6091 - val_accuracy: 0.6377\n",
      "Epoch 16/50\n",
      "84/84 [==============================] - 33s 398ms/step - loss: 0.5437 - accuracy: 0.7232 - val_loss: 0.6331 - val_accuracy: 0.6065\n",
      "Epoch 17/50\n",
      "84/84 [==============================] - 30s 359ms/step - loss: 0.5229 - accuracy: 0.7410 - val_loss: 0.6329 - val_accuracy: 0.5986\n",
      "Epoch 18/50\n",
      "84/84 [==============================] - 30s 361ms/step - loss: 0.5278 - accuracy: 0.7379 - val_loss: 0.7128 - val_accuracy: 0.6054\n",
      "Epoch 19/50\n",
      "84/84 [==============================] - 31s 367ms/step - loss: 0.5087 - accuracy: 0.7510 - val_loss: 0.7817 - val_accuracy: 0.6141\n",
      "Epoch 20/50\n",
      "84/84 [==============================] - 31s 367ms/step - loss: 0.5060 - accuracy: 0.7474 - val_loss: 0.7871 - val_accuracy: 0.6054\n",
      "Epoch 21/50\n",
      "84/84 [==============================] - 31s 373ms/step - loss: 0.4923 - accuracy: 0.7604 - val_loss: 0.8504 - val_accuracy: 0.5828\n",
      "Epoch 22/50\n",
      "84/84 [==============================] - 33s 395ms/step - loss: 0.4776 - accuracy: 0.7699 - val_loss: 0.6437 - val_accuracy: 0.5854\n",
      "Epoch 23/50\n",
      "84/84 [==============================] - 33s 388ms/step - loss: 0.4629 - accuracy: 0.7785 - val_loss: 0.8699 - val_accuracy: 0.5973\n",
      "Epoch 24/50\n",
      "84/84 [==============================] - 40s 476ms/step - loss: 0.4429 - accuracy: 0.7922 - val_loss: 0.7000 - val_accuracy: 0.5994\n",
      "Epoch 25/50\n",
      "84/84 [==============================] - 37s 436ms/step - loss: 0.4415 - accuracy: 0.7927 - val_loss: 0.9551 - val_accuracy: 0.5938\n",
      "Epoch 26/50\n",
      "84/84 [==============================] - 31s 366ms/step - loss: 0.4386 - accuracy: 0.8001 - val_loss: 1.2998 - val_accuracy: 0.5912\n",
      "Epoch 27/50\n",
      "84/84 [==============================] - 32s 376ms/step - loss: 0.4195 - accuracy: 0.8059 - val_loss: 1.0482 - val_accuracy: 0.6033\n",
      "Epoch 28/50\n",
      "84/84 [==============================] - 31s 372ms/step - loss: 0.4037 - accuracy: 0.8126 - val_loss: 0.8052 - val_accuracy: 0.5862\n",
      "Epoch 29/50\n",
      "84/84 [==============================] - 31s 367ms/step - loss: 0.3849 - accuracy: 0.8248 - val_loss: 1.1311 - val_accuracy: 0.6049\n",
      "Epoch 30/50\n",
      "84/84 [==============================] - 32s 379ms/step - loss: 0.3881 - accuracy: 0.8246 - val_loss: 0.8688 - val_accuracy: 0.6025\n",
      "Epoch 31/50\n",
      "84/84 [==============================] - 30s 363ms/step - loss: 0.3781 - accuracy: 0.8300 - val_loss: 0.9058 - val_accuracy: 0.5994\n",
      "Epoch 32/50\n",
      "84/84 [==============================] - 30s 362ms/step - loss: 0.3644 - accuracy: 0.8404 - val_loss: 1.0990 - val_accuracy: 0.5994\n",
      "Epoch 33/50\n",
      "84/84 [==============================] - 32s 378ms/step - loss: 0.3498 - accuracy: 0.8461 - val_loss: 1.1379 - val_accuracy: 0.5923\n",
      "Epoch 34/50\n",
      "84/84 [==============================] - 30s 361ms/step - loss: 0.3369 - accuracy: 0.8513 - val_loss: 0.9576 - val_accuracy: 0.6017\n",
      "Epoch 35/50\n",
      "84/84 [==============================] - 31s 364ms/step - loss: 0.3421 - accuracy: 0.8496 - val_loss: 1.1529 - val_accuracy: 0.5923\n",
      "Epoch 36/50\n",
      "84/84 [==============================] - 32s 379ms/step - loss: 0.3144 - accuracy: 0.8666 - val_loss: 0.8615 - val_accuracy: 0.5878\n",
      "Epoch 37/50\n",
      "84/84 [==============================] - 32s 380ms/step - loss: 0.3068 - accuracy: 0.8733 - val_loss: 1.3144 - val_accuracy: 0.5910\n",
      "Epoch 38/50\n",
      "84/84 [==============================] - 31s 364ms/step - loss: 0.3039 - accuracy: 0.8717 - val_loss: 1.3418 - val_accuracy: 0.6054\n",
      "Epoch 39/50\n",
      "84/84 [==============================] - 32s 384ms/step - loss: 0.2865 - accuracy: 0.8825 - val_loss: 1.1944 - val_accuracy: 0.5954\n",
      "Epoch 40/50\n",
      "84/84 [==============================] - 31s 364ms/step - loss: 0.2926 - accuracy: 0.8776 - val_loss: 1.4189 - val_accuracy: 0.5899\n",
      "Epoch 41/50\n",
      "84/84 [==============================] - 37s 443ms/step - loss: 0.2658 - accuracy: 0.8889 - val_loss: 1.2824 - val_accuracy: 0.5928\n",
      "Epoch 42/50\n",
      "84/84 [==============================] - 33s 391ms/step - loss: 0.2680 - accuracy: 0.8857 - val_loss: 0.9448 - val_accuracy: 0.5860\n",
      "Epoch 43/50\n",
      "84/84 [==============================] - 32s 385ms/step - loss: 0.2564 - accuracy: 0.8930 - val_loss: 1.0808 - val_accuracy: 0.5883\n",
      "Epoch 44/50\n",
      "84/84 [==============================] - 30s 362ms/step - loss: 0.2450 - accuracy: 0.9013 - val_loss: 1.0533 - val_accuracy: 0.5857\n",
      "Epoch 45/50\n",
      "84/84 [==============================] - 30s 361ms/step - loss: 0.2505 - accuracy: 0.9018 - val_loss: 1.5676 - val_accuracy: 0.5881\n",
      "Epoch 46/50\n",
      "84/84 [==============================] - 34s 409ms/step - loss: 0.2385 - accuracy: 0.9031 - val_loss: 1.1306 - val_accuracy: 0.5931\n",
      "Epoch 47/50\n",
      "84/84 [==============================] - 30s 362ms/step - loss: 0.2230 - accuracy: 0.9107 - val_loss: 1.3525 - val_accuracy: 0.5907\n",
      "Epoch 48/50\n",
      "84/84 [==============================] - 32s 377ms/step - loss: 0.2021 - accuracy: 0.9183 - val_loss: 1.6823 - val_accuracy: 0.5923\n",
      "Epoch 49/50\n",
      "84/84 [==============================] - 32s 378ms/step - loss: 0.2068 - accuracy: 0.9194 - val_loss: 1.7113 - val_accuracy: 0.5902\n",
      "Epoch 50/50\n",
      "84/84 [==============================] - 31s 366ms/step - loss: 0.2033 - accuracy: 0.9213 - val_loss: 1.6490 - val_accuracy: 0.5941\n"
     ]
    },
    {
     "data": {
      "text/plain": [
       "<keras.callbacks.callbacks.History at 0x22e3b2b8e88>"
      ]
     },
     "execution_count": 15,
     "metadata": {},
     "output_type": "execute_result"
    }
   ],
   "source": [
    "cnn_model.fit_generator(\n",
    "        x_train,\n",
    "        steps_per_epoch=84, #no. of training images / batch size 8010/32=250\n",
    "        epochs=50,\n",
    "        validation_data=x_test,\n",
    "        validation_steps=40) #no. of testing images / batch size 2002/32=62"
   ]
  },
  {
   "cell_type": "code",
   "execution_count": 16,
   "metadata": {},
   "outputs": [],
   "source": [
    "cnn_model.save(\"mycnnmodel.h5\") #saves the model in .h5 extension"
   ]
  },
  {
   "cell_type": "code",
   "execution_count": null,
   "metadata": {},
   "outputs": [],
   "source": []
  }
 ],
 "metadata": {
  "kernelspec": {
   "display_name": "Python 3",
   "language": "python",
   "name": "python3"
  },
  "language_info": {
   "codemirror_mode": {
    "name": "ipython",
    "version": 3
   },
   "file_extension": ".py",
   "mimetype": "text/x-python",
   "name": "python",
   "nbconvert_exporter": "python",
   "pygments_lexer": "ipython3",
   "version": "3.7.6"
  }
 },
 "nbformat": 4,
 "nbformat_minor": 4
}
